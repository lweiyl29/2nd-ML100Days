{
 "cells": [
  {
   "cell_type": "markdown",
   "metadata": {},
   "source": [
    "## Work\n",
    "1. 試改變 monitor \"Validation Accuracy\" 並比較結果\n",
    "2. 調整 earlystop 的等待次數至 10, 25 並比較結果"
   ]
  },
  {
   "cell_type": "code",
   "execution_count": 1,
   "metadata": {},
   "outputs": [
    {
     "name": "stderr",
     "output_type": "stream",
     "text": [
      "Using TensorFlow backend.\n"
     ]
    }
   ],
   "source": [
    "import os\n",
    "import keras\n",
    "import matplotlib.pyplot as plt\n",
    "%matplotlib inline\n",
    "\n",
    "\n",
    "# Disable GPU\n",
    "os.environ[\"CUDA_VISIBLE_DEVICES\"] = \"\""
   ]
  },
  {
   "cell_type": "code",
   "execution_count": 2,
   "metadata": {},
   "outputs": [],
   "source": [
    "train, test = keras.datasets.cifar10.load_data()"
   ]
  },
  {
   "cell_type": "code",
   "execution_count": 3,
   "metadata": {},
   "outputs": [],
   "source": [
    "## 資料前處理\n",
    "def preproc_x(x, flatten=True):\n",
    "    x = x / 255.\n",
    "    if flatten:\n",
    "        x = x.reshape((len(x), -1))\n",
    "    return x\n",
    "\n",
    "def preproc_y(y, num_classes=10):\n",
    "    if y.shape[-1] == 1:\n",
    "        y = keras.utils.to_categorical(y, num_classes)\n",
    "    return y    "
   ]
  },
  {
   "cell_type": "code",
   "execution_count": 4,
   "metadata": {},
   "outputs": [],
   "source": [
    "x_train, y_train = train\n",
    "x_test, y_test = test\n",
    "\n",
    "# Preproc the inputs\n",
    "x_train = preproc_x(x_train)\n",
    "x_test = preproc_x(x_test)\n",
    "\n",
    "# Preprc the outputs\n",
    "y_train = preproc_y(y_train)\n",
    "y_test = preproc_y(y_test)"
   ]
  },
  {
   "cell_type": "code",
   "execution_count": 5,
   "metadata": {},
   "outputs": [],
   "source": [
    "from keras.layers import BatchNormalization\n",
    "\n",
    "\"\"\"\n",
    "建立神經網路，並加入 BN layer\n",
    "\"\"\"\n",
    "def build_mlp(input_shape, output_units=10, num_neurons=[512, 256, 128]):\n",
    "    input_layer = keras.layers.Input(input_shape)\n",
    "    \n",
    "    for i, n_units in enumerate(num_neurons):\n",
    "        if i == 0:\n",
    "            x = keras.layers.Dense(units=n_units, \n",
    "                                   activation=\"relu\", \n",
    "                                   name=\"hidden_layer\"+str(i+1))(input_layer)\n",
    "            x = BatchNormalization()(x)\n",
    "        else:\n",
    "            x = keras.layers.Dense(units=n_units, \n",
    "                                   activation=\"relu\", \n",
    "                                   name=\"hidden_layer\"+str(i+1))(x)\n",
    "            x = BatchNormalization()(x)\n",
    "    \n",
    "    out = keras.layers.Dense(units=output_units, activation=\"softmax\", name=\"output\")(x)\n",
    "    \n",
    "    model = keras.models.Model(inputs=[input_layer], outputs=[out])\n",
    "    return model"
   ]
  },
  {
   "cell_type": "code",
   "execution_count": 6,
   "metadata": {},
   "outputs": [],
   "source": [
    "## 超參數設定\n",
    "LEARNING_RATE = 1e-3\n",
    "EPOCHS = 20\n",
    "BATCH_SIZE = 1024\n",
    "MOMENTUM = 0.95\n",
    "P_wait = [5,10,25]"
   ]
  },
  {
   "cell_type": "code",
   "execution_count": 7,
   "metadata": {},
   "outputs": [
    {
     "name": "stderr",
     "output_type": "stream",
     "text": [
      "WARNING: Logging before flag parsing goes to stderr.\n",
      "W0806 22:47:40.836239 11072 deprecation_wrapper.py:119] From C:\\Python\\V3\\lib\\site-packages\\keras\\backend\\tensorflow_backend.py:74: The name tf.get_default_graph is deprecated. Please use tf.compat.v1.get_default_graph instead.\n",
      "\n",
      "W0806 22:47:40.867157 11072 deprecation_wrapper.py:119] From C:\\Python\\V3\\lib\\site-packages\\keras\\backend\\tensorflow_backend.py:517: The name tf.placeholder is deprecated. Please use tf.compat.v1.placeholder instead.\n",
      "\n",
      "W0806 22:47:40.875136 11072 deprecation_wrapper.py:119] From C:\\Python\\V3\\lib\\site-packages\\keras\\backend\\tensorflow_backend.py:4138: The name tf.random_uniform is deprecated. Please use tf.random.uniform instead.\n",
      "\n",
      "W0806 22:47:40.978857 11072 deprecation_wrapper.py:119] From C:\\Python\\V3\\lib\\site-packages\\keras\\backend\\tensorflow_backend.py:133: The name tf.placeholder_with_default is deprecated. Please use tf.compat.v1.placeholder_with_default instead.\n",
      "\n",
      "W0806 22:47:41.178323 11072 deprecation_wrapper.py:119] From C:\\Python\\V3\\lib\\site-packages\\keras\\optimizers.py:790: The name tf.train.Optimizer is deprecated. Please use tf.compat.v1.train.Optimizer instead.\n",
      "\n",
      "W0806 22:47:41.185306 11072 deprecation_wrapper.py:119] From C:\\Python\\V3\\lib\\site-packages\\keras\\backend\\tensorflow_backend.py:3295: The name tf.log is deprecated. Please use tf.math.log instead.\n",
      "\n",
      "W0806 22:47:41.287170 11072 deprecation.py:323] From C:\\Python\\V3\\lib\\site-packages\\tensorflow\\python\\ops\\math_grad.py:1250: add_dispatch_support.<locals>.wrapper (from tensorflow.python.ops.array_ops) is deprecated and will be removed in a future version.\n",
      "Instructions for updating:\n",
      "Use tf.where in 2.0, which has the same broadcast rule as np.where\n"
     ]
    },
    {
     "name": "stdout",
     "output_type": "stream",
     "text": [
      "_________________________________________________________________\n",
      "Layer (type)                 Output Shape              Param #   \n",
      "=================================================================\n",
      "input_1 (InputLayer)         (None, 3072)              0         \n",
      "_________________________________________________________________\n",
      "hidden_layer1 (Dense)        (None, 512)               1573376   \n",
      "_________________________________________________________________\n",
      "batch_normalization_1 (Batch (None, 512)               2048      \n",
      "_________________________________________________________________\n",
      "hidden_layer2 (Dense)        (None, 256)               131328    \n",
      "_________________________________________________________________\n",
      "batch_normalization_2 (Batch (None, 256)               1024      \n",
      "_________________________________________________________________\n",
      "hidden_layer3 (Dense)        (None, 128)               32896     \n",
      "_________________________________________________________________\n",
      "batch_normalization_3 (Batch (None, 128)               512       \n",
      "_________________________________________________________________\n",
      "output (Dense)               (None, 10)                1290      \n",
      "=================================================================\n",
      "Total params: 1,742,474\n",
      "Trainable params: 1,740,682\n",
      "Non-trainable params: 1,792\n",
      "_________________________________________________________________\n",
      "Train on 50000 samples, validate on 10000 samples\n",
      "Epoch 1/20\n",
      "50000/50000 [==============================] - 6s 129us/step - loss: 2.1915 - acc: 0.2742 - val_loss: 2.0128 - val_acc: 0.3372\n",
      "Epoch 2/20\n",
      " 1024/50000 [..............................] - ETA: 5s - loss: 1.7973 - acc: 0.3828"
     ]
    },
    {
     "name": "stderr",
     "output_type": "stream",
     "text": [
      "C:\\Python\\V3\\lib\\site-packages\\keras\\callbacks.py:569: RuntimeWarning: Early stopping conditioned on metric `Validation Accuracy` which is not available. Available metrics are: val_loss,val_acc,loss,acc\n",
      "  (self.monitor, ','.join(list(logs.keys()))), RuntimeWarning\n"
     ]
    },
    {
     "name": "stdout",
     "output_type": "stream",
     "text": [
      "50000/50000 [==============================] - 6s 112us/step - loss: 1.7405 - acc: 0.3916 - val_loss: 1.7846 - val_acc: 0.3904\n",
      "Epoch 3/20\n",
      "50000/50000 [==============================] - 6s 120us/step - loss: 1.6168 - acc: 0.4335 - val_loss: 1.6915 - val_acc: 0.4136\n",
      "Epoch 4/20\n",
      "50000/50000 [==============================] - 6s 127us/step - loss: 1.5431 - acc: 0.4594 - val_loss: 1.6283 - val_acc: 0.4302\n",
      "Epoch 5/20\n",
      "50000/50000 [==============================] - 6s 120us/step - loss: 1.4901 - acc: 0.4796 - val_loss: 1.5975 - val_acc: 0.4475\n",
      "Epoch 6/20\n",
      "50000/50000 [==============================] - 6s 119us/step - loss: 1.4435 - acc: 0.4946 - val_loss: 1.5531 - val_acc: 0.4515\n",
      "Epoch 7/20\n",
      "50000/50000 [==============================] - 6s 119us/step - loss: 1.4031 - acc: 0.5109 - val_loss: 1.5396 - val_acc: 0.4584\n",
      "Epoch 8/20\n",
      "50000/50000 [==============================] - 6s 119us/step - loss: 1.3672 - acc: 0.5237 - val_loss: 1.5200 - val_acc: 0.4670\n",
      "Epoch 9/20\n",
      "50000/50000 [==============================] - 6s 119us/step - loss: 1.3341 - acc: 0.5341 - val_loss: 1.5061 - val_acc: 0.4737\n",
      "Epoch 10/20\n",
      "50000/50000 [==============================] - 6s 119us/step - loss: 1.3042 - acc: 0.5462 - val_loss: 1.4957 - val_acc: 0.4757\n",
      "Epoch 11/20\n",
      "50000/50000 [==============================] - 6s 120us/step - loss: 1.2756 - acc: 0.5576 - val_loss: 1.4904 - val_acc: 0.4730\n",
      "Epoch 12/20\n",
      "50000/50000 [==============================] - 6s 121us/step - loss: 1.2500 - acc: 0.5689 - val_loss: 1.4820 - val_acc: 0.4786\n",
      "Epoch 13/20\n",
      "50000/50000 [==============================] - 6s 121us/step - loss: 1.2243 - acc: 0.5760 - val_loss: 1.4745 - val_acc: 0.4832\n",
      "Epoch 14/20\n",
      "50000/50000 [==============================] - 6s 120us/step - loss: 1.1984 - acc: 0.5861 - val_loss: 1.4815 - val_acc: 0.4812\n",
      "Epoch 15/20\n",
      "50000/50000 [==============================] - 6s 124us/step - loss: 1.1759 - acc: 0.5937 - val_loss: 1.4626 - val_acc: 0.4906\n",
      "Epoch 16/20\n",
      "50000/50000 [==============================] - 6s 122us/step - loss: 1.1519 - acc: 0.6032 - val_loss: 1.4617 - val_acc: 0.4858\n",
      "Epoch 17/20\n",
      "50000/50000 [==============================] - 6s 122us/step - loss: 1.1305 - acc: 0.6105 - val_loss: 1.4583 - val_acc: 0.4932\n",
      "Epoch 18/20\n",
      "50000/50000 [==============================] - 6s 122us/step - loss: 1.1065 - acc: 0.6195 - val_loss: 1.4536 - val_acc: 0.4904\n",
      "Epoch 19/20\n",
      "50000/50000 [==============================] - 6s 122us/step - loss: 1.0850 - acc: 0.6286 - val_loss: 1.4534 - val_acc: 0.4909\n",
      "Epoch 20/20\n",
      "50000/50000 [==============================] - 6s 123us/step - loss: 1.0620 - acc: 0.6376 - val_loss: 1.4516 - val_acc: 0.4891\n",
      "_________________________________________________________________\n",
      "Layer (type)                 Output Shape              Param #   \n",
      "=================================================================\n",
      "input_2 (InputLayer)         (None, 3072)              0         \n",
      "_________________________________________________________________\n",
      "hidden_layer1 (Dense)        (None, 512)               1573376   \n",
      "_________________________________________________________________\n",
      "batch_normalization_4 (Batch (None, 512)               2048      \n",
      "_________________________________________________________________\n",
      "hidden_layer2 (Dense)        (None, 256)               131328    \n",
      "_________________________________________________________________\n",
      "batch_normalization_5 (Batch (None, 256)               1024      \n",
      "_________________________________________________________________\n",
      "hidden_layer3 (Dense)        (None, 128)               32896     \n",
      "_________________________________________________________________\n",
      "batch_normalization_6 (Batch (None, 128)               512       \n",
      "_________________________________________________________________\n",
      "output (Dense)               (None, 10)                1290      \n",
      "=================================================================\n",
      "Total params: 1,742,474\n",
      "Trainable params: 1,740,682\n",
      "Non-trainable params: 1,792\n",
      "_________________________________________________________________\n",
      "Train on 50000 samples, validate on 10000 samples\n",
      "Epoch 1/20\n",
      "50000/50000 [==============================] - 7s 141us/step - loss: 2.2085 - acc: 0.2730 - val_loss: 2.1599 - val_acc: 0.3160\n",
      "Epoch 2/20\n",
      " 1024/50000 [..............................] - ETA: 5s - loss: 1.7223 - acc: 0.3916"
     ]
    },
    {
     "name": "stderr",
     "output_type": "stream",
     "text": [
      "C:\\Python\\V3\\lib\\site-packages\\keras\\callbacks.py:569: RuntimeWarning: Early stopping conditioned on metric `Validation Accuracy` which is not available. Available metrics are: val_loss,val_acc,loss,acc\n",
      "  (self.monitor, ','.join(list(logs.keys()))), RuntimeWarning\n"
     ]
    },
    {
     "name": "stdout",
     "output_type": "stream",
     "text": [
      "50000/50000 [==============================] - 6s 122us/step - loss: 1.7465 - acc: 0.3938 - val_loss: 1.8159 - val_acc: 0.3835\n",
      "Epoch 3/20\n",
      "50000/50000 [==============================] - 6s 126us/step - loss: 1.6221 - acc: 0.4327 - val_loss: 1.7237 - val_acc: 0.4028\n",
      "Epoch 4/20\n",
      "50000/50000 [==============================] - 6s 128us/step - loss: 1.5507 - acc: 0.4601 - val_loss: 1.6431 - val_acc: 0.4209\n",
      "Epoch 5/20\n",
      "50000/50000 [==============================] - 6s 128us/step - loss: 1.4938 - acc: 0.4786 - val_loss: 1.6113 - val_acc: 0.4294\n",
      "Epoch 6/20\n",
      "50000/50000 [==============================] - 6s 129us/step - loss: 1.4480 - acc: 0.4943 - val_loss: 1.5760 - val_acc: 0.4456\n",
      "Epoch 7/20\n",
      "50000/50000 [==============================] - 6s 128us/step - loss: 1.4093 - acc: 0.5100 - val_loss: 1.5583 - val_acc: 0.4519\n",
      "Epoch 8/20\n",
      "50000/50000 [==============================] - 7s 135us/step - loss: 1.3730 - acc: 0.5209 - val_loss: 1.5390 - val_acc: 0.4583\n",
      "Epoch 9/20\n",
      "50000/50000 [==============================] - 6s 123us/step - loss: 1.3406 - acc: 0.5335 - val_loss: 1.5229 - val_acc: 0.4679\n",
      "Epoch 10/20\n",
      "50000/50000 [==============================] - 6s 127us/step - loss: 1.3095 - acc: 0.5457 - val_loss: 1.5141 - val_acc: 0.4682\n",
      "Epoch 11/20\n",
      "50000/50000 [==============================] - 7s 131us/step - loss: 1.2817 - acc: 0.5547 - val_loss: 1.5094 - val_acc: 0.4685\n",
      "Epoch 12/20\n",
      "50000/50000 [==============================] - 6s 127us/step - loss: 1.2530 - acc: 0.5645 - val_loss: 1.4978 - val_acc: 0.4802\n",
      "Epoch 13/20\n",
      "50000/50000 [==============================] - 7s 144us/step - loss: 1.2275 - acc: 0.5767 - val_loss: 1.4936 - val_acc: 0.4742\n",
      "Epoch 14/20\n",
      "50000/50000 [==============================] - 7s 134us/step - loss: 1.2044 - acc: 0.5841 - val_loss: 1.4775 - val_acc: 0.4825\n",
      "Epoch 15/20\n",
      "50000/50000 [==============================] - 7s 136us/step - loss: 1.1779 - acc: 0.5958 - val_loss: 1.4770 - val_acc: 0.4840\n",
      "Epoch 16/20\n",
      "50000/50000 [==============================] - 7s 135us/step - loss: 1.1534 - acc: 0.6044 - val_loss: 1.4841 - val_acc: 0.4798\n",
      "Epoch 17/20\n",
      "50000/50000 [==============================] - 7s 133us/step - loss: 1.1301 - acc: 0.6133 - val_loss: 1.4736 - val_acc: 0.4860\n",
      "Epoch 18/20\n",
      "50000/50000 [==============================] - 7s 132us/step - loss: 1.1094 - acc: 0.6226 - val_loss: 1.4699 - val_acc: 0.4818\n",
      "Epoch 19/20\n",
      "50000/50000 [==============================] - 7s 133us/step - loss: 1.0851 - acc: 0.6303 - val_loss: 1.4709 - val_acc: 0.4925\n",
      "Epoch 20/20\n",
      "50000/50000 [==============================] - 7s 133us/step - loss: 1.0646 - acc: 0.6387 - val_loss: 1.4771 - val_acc: 0.4835\n",
      "_________________________________________________________________\n",
      "Layer (type)                 Output Shape              Param #   \n",
      "=================================================================\n",
      "input_3 (InputLayer)         (None, 3072)              0         \n",
      "_________________________________________________________________\n",
      "hidden_layer1 (Dense)        (None, 512)               1573376   \n",
      "_________________________________________________________________\n",
      "batch_normalization_7 (Batch (None, 512)               2048      \n",
      "_________________________________________________________________\n",
      "hidden_layer2 (Dense)        (None, 256)               131328    \n",
      "_________________________________________________________________\n",
      "batch_normalization_8 (Batch (None, 256)               1024      \n",
      "_________________________________________________________________\n",
      "hidden_layer3 (Dense)        (None, 128)               32896     \n",
      "_________________________________________________________________\n",
      "batch_normalization_9 (Batch (None, 128)               512       \n",
      "_________________________________________________________________\n",
      "output (Dense)               (None, 10)                1290      \n",
      "=================================================================\n",
      "Total params: 1,742,474\n",
      "Trainable params: 1,740,682\n",
      "Non-trainable params: 1,792\n",
      "_________________________________________________________________\n",
      "Train on 50000 samples, validate on 10000 samples\n",
      "Epoch 1/20\n",
      "50000/50000 [==============================] - 8s 154us/step - loss: 2.2256 - acc: 0.2625 - val_loss: 2.0735 - val_acc: 0.3146\n",
      "Epoch 2/20\n",
      " 1024/50000 [..............................] - ETA: 5s - loss: 1.8113 - acc: 0.3633"
     ]
    },
    {
     "name": "stderr",
     "output_type": "stream",
     "text": [
      "C:\\Python\\V3\\lib\\site-packages\\keras\\callbacks.py:569: RuntimeWarning: Early stopping conditioned on metric `Validation Accuracy` which is not available. Available metrics are: val_loss,val_acc,loss,acc\n",
      "  (self.monitor, ','.join(list(logs.keys()))), RuntimeWarning\n"
     ]
    },
    {
     "name": "stdout",
     "output_type": "stream",
     "text": [
      "50000/50000 [==============================] - 7s 135us/step - loss: 1.7467 - acc: 0.3873 - val_loss: 1.8245 - val_acc: 0.3690\n",
      "Epoch 3/20\n",
      "50000/50000 [==============================] - 7s 133us/step - loss: 1.6206 - acc: 0.4304 - val_loss: 1.6902 - val_acc: 0.4136\n",
      "Epoch 4/20\n",
      "50000/50000 [==============================] - 7s 133us/step - loss: 1.5458 - acc: 0.4583 - val_loss: 1.6345 - val_acc: 0.4241\n",
      "Epoch 5/20\n",
      "50000/50000 [==============================] - 7s 138us/step - loss: 1.4912 - acc: 0.4781 - val_loss: 1.6011 - val_acc: 0.4374\n",
      "Epoch 6/20\n",
      "50000/50000 [==============================] - 7s 134us/step - loss: 1.4465 - acc: 0.4934 - val_loss: 1.5732 - val_acc: 0.4468\n",
      "Epoch 7/20\n",
      "50000/50000 [==============================] - 7s 132us/step - loss: 1.4057 - acc: 0.5075 - val_loss: 1.5604 - val_acc: 0.4493\n",
      "Epoch 8/20\n",
      "50000/50000 [==============================] - 7s 133us/step - loss: 1.3725 - acc: 0.5213 - val_loss: 1.5361 - val_acc: 0.4600\n",
      "Epoch 9/20\n",
      "50000/50000 [==============================] - 7s 134us/step - loss: 1.3385 - acc: 0.5339 - val_loss: 1.5162 - val_acc: 0.4659\n",
      "Epoch 10/20\n",
      "50000/50000 [==============================] - 7s 134us/step - loss: 1.3083 - acc: 0.5456 - val_loss: 1.5325 - val_acc: 0.4597\n",
      "Epoch 11/20\n",
      "50000/50000 [==============================] - 7s 133us/step - loss: 1.2801 - acc: 0.5519 - val_loss: 1.5046 - val_acc: 0.4747\n",
      "Epoch 12/20\n",
      "50000/50000 [==============================] - 7s 134us/step - loss: 1.2518 - acc: 0.5645 - val_loss: 1.4907 - val_acc: 0.4729\n",
      "Epoch 13/20\n",
      "50000/50000 [==============================] - 7s 135us/step - loss: 1.2272 - acc: 0.5739 - val_loss: 1.4778 - val_acc: 0.4833\n",
      "Epoch 14/20\n",
      "50000/50000 [==============================] - 7s 133us/step - loss: 1.2017 - acc: 0.5830 - val_loss: 1.4748 - val_acc: 0.4911\n",
      "Epoch 15/20\n",
      "50000/50000 [==============================] - 7s 133us/step - loss: 1.1777 - acc: 0.5920 - val_loss: 1.4794 - val_acc: 0.4812\n",
      "Epoch 16/20\n",
      "50000/50000 [==============================] - 6s 130us/step - loss: 1.1530 - acc: 0.6026 - val_loss: 1.4800 - val_acc: 0.4857\n",
      "Epoch 17/20\n",
      "50000/50000 [==============================] - 7s 131us/step - loss: 1.1276 - acc: 0.6114 - val_loss: 1.4736 - val_acc: 0.4878\n",
      "Epoch 18/20\n",
      "50000/50000 [==============================] - 6s 130us/step - loss: 1.1062 - acc: 0.6191 - val_loss: 1.4527 - val_acc: 0.4972\n",
      "Epoch 19/20\n",
      "50000/50000 [==============================] - 7s 132us/step - loss: 1.0816 - acc: 0.6291 - val_loss: 1.4739 - val_acc: 0.4887\n",
      "Epoch 20/20\n",
      "50000/50000 [==============================] - 7s 134us/step - loss: 1.0604 - acc: 0.6376 - val_loss: 1.4606 - val_acc: 0.4916\n"
     ]
    }
   ],
   "source": [
    "# 載入 callbacks: Earlystop\n",
    "from keras.callbacks import EarlyStopping\n",
    "\n",
    "results = {}\n",
    "for p in P_wait:\n",
    "    earlystop = EarlyStopping(monitor=\"Validation Accuracy\", \n",
    "                          patience=p, \n",
    "                          verbose=1\n",
    "                          )\n",
    "\n",
    "    model = build_mlp(input_shape=x_train.shape[1:])\n",
    "    model.summary()\n",
    "    optimizer = keras.optimizers.SGD(lr=LEARNING_RATE, nesterov=True, momentum=MOMENTUM)\n",
    "    model.compile(loss=\"categorical_crossentropy\", metrics=[\"accuracy\"], optimizer=optimizer)\n",
    "\n",
    "    model.fit(x_train, y_train, \n",
    "              epochs=EPOCHS, \n",
    "              batch_size=BATCH_SIZE, \n",
    "              validation_data=(x_test, y_test), \n",
    "              shuffle=True,\n",
    "              callbacks=[earlystop]\n",
    "             )\n",
    "\n",
    "    # Collect results\n",
    "    train_loss = model.history.history[\"loss\"]\n",
    "    valid_loss = model.history.history[\"val_loss\"]\n",
    "    train_acc = model.history.history[\"acc\"]\n",
    "    valid_acc = model.history.history[\"val_acc\"]\n",
    "    \n",
    "    exp_name_tag = \"patience=%s\" % str(p)\n",
    "    results[exp_name_tag] = {'train-loss': train_loss,\n",
    "                             'valid-loss': valid_loss,\n",
    "                             'train-acc': train_acc,\n",
    "                             'valid-acc': valid_acc}"
   ]
  },
  {
   "cell_type": "code",
   "execution_count": 8,
   "metadata": {},
   "outputs": [
    {
     "data": {
      "image/png": "[encoded data removed]",
      "text/plain": [
       "<Figure size 576x432 with 1 Axes>"
      ]
     },
     "metadata": {
      "needs_background": "light"
     },
     "output_type": "display_data"
    },
    {
     "data": {
      "image/png": "[encoded data removed]",
      "text/plain": [
       "<Figure size 576x432 with 1 Axes>"
      ]
     },
     "metadata": {
      "needs_background": "light"
     },
     "output_type": "display_data"
    }
   ],
   "source": [
    "import matplotlib.pyplot as plt\n",
    "%matplotlib inline\n",
    "color_bar = [\"r\", \"g\", \"b\"]\n",
    "\n",
    "plt.figure(figsize=(8,6))\n",
    "for i, cond in enumerate(results.keys()):\n",
    "    plt.plot(range(len(results[cond]['train-loss'])),results[cond]['train-loss'], '-', label=cond, color=color_bar[i])\n",
    "    plt.plot(range(len(results[cond]['valid-loss'])),results[cond]['valid-loss'], '--', label=cond, color=color_bar[i])\n",
    "plt.title(\"Loss\")\n",
    "plt.ylim([0, 5])\n",
    "plt.legend()\n",
    "plt.show()\n",
    "\n",
    "plt.figure(figsize=(8,6))\n",
    "for i, cond in enumerate(results.keys()):\n",
    "    plt.plot(range(len(results[cond]['train-acc'])),results[cond]['train-acc'], '-', label=cond, color=color_bar[i])\n",
    "    plt.plot(range(len(results[cond]['valid-acc'])),results[cond]['valid-acc'], '--', label=cond, color=color_bar[i])\n",
    "plt.title(\"Accuracy\")\n",
    "plt.legend()\n",
    "plt.show()"
   ]
  }
 ],
 "metadata": {
  "kernelspec": {
   "display_name": "Python 3",
   "language": "python",
   "name": "python3"
  },
  "language_info": {
   "codemirror_mode": {
    "name": "ipython",
    "version": 3
   },
   "file_extension": ".py",
   "mimetype": "text/x-python",
   "name": "python",
   "nbconvert_exporter": "python",
   "pygments_lexer": "ipython3",
   "version": "3.6.8"
  }
 },
 "nbformat": 4,
 "nbformat_minor": 2
}
