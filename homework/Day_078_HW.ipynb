{
 "cells": [
  {
   "cell_type": "markdown",
   "metadata": {},
   "source": [
    "## Work\n",
    "1. 請嘗試將 preproc_x 替換成以每筆資料的 min/max 進行標準化至 -1 ~ 1 間，再進行訓練\n",
    "2. 請嘗試將 mlp 疊更深 (e.g 5~10 層)，進行訓練後觀察 learning curve 的走勢\n",
    "3. (optional) 請改用 GPU 進行訓練 (如果你有 GPU 的話)，比較使用 CPU 與 GPU 的訓練速度"
   ]
  },
  {
   "cell_type": "code",
   "execution_count": 6,
   "metadata": {},
   "outputs": [
    {
     "name": "stderr",
     "output_type": "stream",
     "text": [
      "'nvidia-smi' 不是內部或外部命令、可執行的程式或批次檔。\n"
     ]
    }
   ],
   "source": [
    "## \n",
    "\"\"\"\n",
    "Your code here (optional)\n",
    "確認硬體資源\n",
    "\"\"\"\n",
    "!nvidia-smi"
   ]
  },
  {
   "cell_type": "code",
   "execution_count": 7,
   "metadata": {},
   "outputs": [
    {
     "name": "stderr",
     "output_type": "stream",
     "text": [
      "Using TensorFlow backend.\n"
     ]
    }
   ],
   "source": [
    "import os\n",
    "import keras\n",
    "\n",
    "# 請嘗試設定 GPU：os.environ\n",
    "os.environ[\"CUDA_VISIBLE_DEVICES\"] = \"\""
   ]
  },
  {
   "cell_type": "code",
   "execution_count": 8,
   "metadata": {},
   "outputs": [],
   "source": [
    "# 從 Keras 的內建功能中，取得 train 與 test 資料集\n",
    "train, test = keras.datasets.cifar10.load_data()"
   ]
  },
  {
   "cell_type": "code",
   "execution_count": 9,
   "metadata": {},
   "outputs": [],
   "source": [
    "## 資料前處理\n",
    "def preproc_x(x, flatten=True):\n",
    "    x = x / 255.\n",
    "    if flatten:\n",
    "        x = x.reshape((len(x), -1))\n",
    "    return x\n",
    "\n",
    "def preproc_y(y, num_classes=10):\n",
    "    if y.shape[-1] == 1:\n",
    "        y = keras.utils.to_categorical(y, num_classes)\n",
    "    return y  "
   ]
  },
  {
   "cell_type": "code",
   "execution_count": 10,
   "metadata": {},
   "outputs": [],
   "source": [
    "x_train, y_train = train\n",
    "x_test, y_test = test\n",
    "\n",
    "# 資料前處理 - X 標準化\n",
    "x_train = preproc_x(x_train)\n",
    "x_test = preproc_x(x_test)\n",
    "\n",
    "# 資料前處理 -Y 轉成 onehot\n",
    "y_train = preproc_y(y_train)\n",
    "y_test = preproc_y(y_test)"
   ]
  },
  {
   "cell_type": "code",
   "execution_count": 11,
   "metadata": {},
   "outputs": [],
   "source": [
    "\"\"\"Code Here\n",
    "建立你的神經網路\n",
    "\"\"\"\n",
    "def build_mlp(input_shape, output_units=10, num_neurons=[512, 256, 128]):\n",
    "    input_layer = keras.layers.Input(input_shape)\n",
    "    \n",
    "    for i, n_units in enumerate(num_neurons):\n",
    "        if i == 0:\n",
    "            x = keras.layers.Dense(units=n_units, activation=\"relu\", name=\"hidden_layer\"+str(i+1))(input_layer)\n",
    "        else:\n",
    "            x = keras.layers.Dense(units=n_units, activation=\"relu\", name=\"hidden_layer\"+str(i+1))(x)\n",
    "    \n",
    "    out = keras.layers.Dense(units=output_units, activation=\"softmax\", name=\"output\")(x)\n",
    "    \n",
    "    model = keras.models.Model(inputs=[input_layer], outputs=[out])\n",
    "    return model"
   ]
  },
  {
   "cell_type": "code",
   "execution_count": 15,
   "metadata": {},
   "outputs": [
    {
     "name": "stdout",
     "output_type": "stream",
     "text": [
      "_________________________________________________________________\n",
      "Layer (type)                 Output Shape              Param #   \n",
      "=================================================================\n",
      "input_2 (InputLayer)         (None, 3072)              0         \n",
      "_________________________________________________________________\n",
      "hidden_layer1 (Dense)        (None, 512)               1573376   \n",
      "_________________________________________________________________\n",
      "hidden_layer2 (Dense)        (None, 256)               131328    \n",
      "_________________________________________________________________\n",
      "hidden_layer3 (Dense)        (None, 128)               32896     \n",
      "_________________________________________________________________\n",
      "hidden_layer4 (Dense)        (None, 128)               16512     \n",
      "_________________________________________________________________\n",
      "hidden_layer5 (Dense)        (None, 256)               33024     \n",
      "_________________________________________________________________\n",
      "hidden_layer6 (Dense)        (None, 512)               131584    \n",
      "_________________________________________________________________\n",
      "output (Dense)               (None, 10)                5130      \n",
      "=================================================================\n",
      "Total params: 1,923,850\n",
      "Trainable params: 1,923,850\n",
      "Non-trainable params: 0\n",
      "_________________________________________________________________\n"
     ]
    }
   ],
   "source": [
    "model = build_mlp(input_shape=x_train.shape[1:],num_neurons=[512,256,128,128,256,512])\n",
    "model.summary()"
   ]
  },
  {
   "cell_type": "code",
   "execution_count": 13,
   "metadata": {},
   "outputs": [],
   "source": [
    "## 超參數設定\n",
    "LEARNING_RATE = 0.001\n",
    "EPOCHS = 100\n",
    "BATCH_SIZE = 256"
   ]
  },
  {
   "cell_type": "code",
   "execution_count": 16,
   "metadata": {},
   "outputs": [],
   "source": [
    "optimizer = keras.optimizers.Adam(lr=LEARNING_RATE)\n",
    "model.compile(loss=\"categorical_crossentropy\", metrics=[\"accuracy\"], optimizer=optimizer)"
   ]
  },
  {
   "cell_type": "code",
   "execution_count": 17,
   "metadata": {},
   "outputs": [
    {
     "name": "stderr",
     "output_type": "stream",
     "text": [
      "W0804 23:06:42.155776 11180 deprecation.py:323] From C:\\Python\\V3\\lib\\site-packages\\tensorflow\\python\\ops\\math_grad.py:1250: add_dispatch_support.<locals>.wrapper (from tensorflow.python.ops.array_ops) is deprecated and will be removed in a future version.\n",
      "Instructions for updating:\n",
      "Use tf.where in 2.0, which has the same broadcast rule as np.where\n",
      "W0804 23:06:42.227699 11180 deprecation_wrapper.py:119] From C:\\Python\\V3\\lib\\site-packages\\keras\\backend\\tensorflow_backend.py:986: The name tf.assign_add is deprecated. Please use tf.compat.v1.assign_add instead.\n",
      "\n"
     ]
    },
    {
     "name": "stdout",
     "output_type": "stream",
     "text": [
      "Train on 50000 samples, validate on 10000 samples\n",
      "Epoch 1/100\n",
      "50000/50000 [==============================] - 11s 218us/step - loss: 1.9115 - acc: 0.2930 - val_loss: 1.8240 - val_acc: 0.3487\n",
      "Epoch 2/100\n",
      "50000/50000 [==============================] - 12s 238us/step - loss: 1.7141 - acc: 0.3795 - val_loss: 1.8499 - val_acc: 0.3532\n",
      "Epoch 3/100\n",
      "50000/50000 [==============================] - 12s 248us/step - loss: 1.6406 - acc: 0.4064 - val_loss: 1.6728 - val_acc: 0.3941\n",
      "Epoch 4/100\n",
      "50000/50000 [==============================] - 12s 244us/step - loss: 1.5867 - acc: 0.4301 - val_loss: 1.5732 - val_acc: 0.4399\n",
      "Epoch 5/100\n",
      "50000/50000 [==============================] - 12s 249us/step - loss: 1.5215 - acc: 0.4542 - val_loss: 1.5589 - val_acc: 0.4411\n",
      "Epoch 6/100\n",
      "50000/50000 [==============================] - 12s 241us/step - loss: 1.4919 - acc: 0.4639 - val_loss: 1.5488 - val_acc: 0.4357\n",
      "Epoch 7/100\n",
      "50000/50000 [==============================] - 12s 241us/step - loss: 1.4542 - acc: 0.4751 - val_loss: 1.5017 - val_acc: 0.4634\n",
      "Epoch 8/100\n",
      "50000/50000 [==============================] - 12s 238us/step - loss: 1.4232 - acc: 0.4886 - val_loss: 1.5281 - val_acc: 0.4658\n",
      "Epoch 9/100\n",
      "50000/50000 [==============================] - 12s 236us/step - loss: 1.3879 - acc: 0.5006 - val_loss: 1.4736 - val_acc: 0.4808\n",
      "Epoch 10/100\n",
      "50000/50000 [==============================] - 12s 240us/step - loss: 1.3687 - acc: 0.5069 - val_loss: 1.4614 - val_acc: 0.4803\n",
      "Epoch 11/100\n",
      "50000/50000 [==============================] - 12s 239us/step - loss: 1.3455 - acc: 0.5170 - val_loss: 1.4125 - val_acc: 0.5016\n",
      "Epoch 12/100\n",
      "50000/50000 [==============================] - 12s 238us/step - loss: 1.3256 - acc: 0.5220 - val_loss: 1.4199 - val_acc: 0.4921\n",
      "Epoch 13/100\n",
      "50000/50000 [==============================] - 12s 243us/step - loss: 1.2836 - acc: 0.5385 - val_loss: 1.4238 - val_acc: 0.50022808 - ac - ETA - ETA: \n",
      "Epoch 14/100\n",
      "50000/50000 [==============================] - 14s 272us/step - loss: 1.2673 - acc: 0.5425 - val_loss: 1.4482 - val_acc: 0.4943\n",
      "Epoch 15/100\n",
      "50000/50000 [==============================] - 14s 278us/step - loss: 1.2430 - acc: 0.5515 - val_loss: 1.4141 - val_acc: 0.5061\n",
      "Epoch 16/100\n",
      "50000/50000 [==============================] - 13s 255us/step - loss: 1.2075 - acc: 0.5651 - val_loss: 1.3836 - val_acc: 0.5201\n",
      "Epoch 17/100\n",
      "50000/50000 [==============================] - 13s 251us/step - loss: 1.1875 - acc: 0.5717 - val_loss: 1.3907 - val_acc: 0.5133\n",
      "Epoch 18/100\n",
      "50000/50000 [==============================] - 13s 256us/step - loss: 1.1746 - acc: 0.5777 - val_loss: 1.4351 - val_acc: 0.5032\n",
      "Epoch 19/100\n",
      "50000/50000 [==============================] - 13s 260us/step - loss: 1.1411 - acc: 0.5888 - val_loss: 1.4295 - val_acc: 0.5059\n",
      "Epoch 20/100\n",
      "50000/50000 [==============================] - 13s 259us/step - loss: 1.1254 - acc: 0.5952 - val_loss: 1.4514 - val_acc: 0.4969\n",
      "Epoch 21/100\n",
      "50000/50000 [==============================] - 13s 264us/step - loss: 1.1022 - acc: 0.6003 - val_loss: 1.4085 - val_acc: 0.5121\n",
      "Epoch 22/100\n",
      "50000/50000 [==============================] - 13s 254us/step - loss: 1.0771 - acc: 0.6094 - val_loss: 1.4195 - val_acc: 0.5132s: 1.0762 - \n",
      "Epoch 23/100\n",
      "50000/50000 [==============================] - 13s 260us/step - loss: 1.0506 - acc: 0.6212 - val_loss: 1.4085 - val_acc: 0.5204\n",
      "Epoch 24/100\n",
      "50000/50000 [==============================] - 13s 265us/step - loss: 1.0359 - acc: 0.6233 - val_loss: 1.4515 - val_acc: 0.5092\n",
      "Epoch 25/100\n",
      "50000/50000 [==============================] - 13s 264us/step - loss: 1.0151 - acc: 0.6328 - val_loss: 1.4550 - val_acc: 0.5098\n",
      "Epoch 26/100\n",
      "50000/50000 [==============================] - 13s 260us/step - loss: 0.9794 - acc: 0.6448 - val_loss: 1.4727 - val_acc: 0.5153\n",
      "Epoch 27/100\n",
      "50000/50000 [==============================] - 13s 265us/step - loss: 0.9597 - acc: 0.6501 - val_loss: 1.4703 - val_acc: 0.5211\n",
      "Epoch 28/100\n",
      "50000/50000 [==============================] - 14s 272us/step - loss: 0.9417 - acc: 0.6568 - val_loss: 1.5210 - val_acc: 0.5156\n",
      "Epoch 29/100\n",
      "50000/50000 [==============================] - 14s 279us/step - loss: 0.9103 - acc: 0.6680 - val_loss: 1.5120 - val_acc: 0.5172\n",
      "Epoch 30/100\n",
      "50000/50000 [==============================] - 14s 271us/step - loss: 0.8964 - acc: 0.6719 - val_loss: 1.5022 - val_acc: 0.5167\n",
      "Epoch 31/100\n",
      "50000/50000 [==============================] - 13s 266us/step - loss: 0.8706 - acc: 0.6823 - val_loss: 1.5549 - val_acc: 0.5140\n",
      "Epoch 32/100\n",
      "50000/50000 [==============================] - 13s 262us/step - loss: 0.8410 - acc: 0.6924 - val_loss: 1.6283 - val_acc: 0.5111\n",
      "Epoch 33/100\n",
      "50000/50000 [==============================] - 13s 269us/step - loss: 0.8212 - acc: 0.6988 - val_loss: 1.6104 - val_acc: 0.5076\n",
      "Epoch 34/100\n",
      "50000/50000 [==============================] - 14s 277us/step - loss: 0.7786 - acc: 0.7153 - val_loss: 1.6823 - val_acc: 0.5102\n",
      "Epoch 35/100\n",
      "50000/50000 [==============================] - 13s 269us/step - loss: 0.7745 - acc: 0.7158 - val_loss: 1.7786 - val_acc: 0.4957\n",
      "Epoch 36/100\n",
      "50000/50000 [==============================] - 13s 267us/step - loss: 0.7525 - acc: 0.7239 - val_loss: 1.7209 - val_acc: 0.5125\n",
      "Epoch 37/100\n",
      "50000/50000 [==============================] - 13s 264us/step - loss: 0.7219 - acc: 0.7354 - val_loss: 1.7954 - val_acc: 0.5005\n",
      "Epoch 38/100\n",
      "50000/50000 [==============================] - 13s 268us/step - loss: 0.6909 - acc: 0.7456 - val_loss: 1.8256 - val_acc: 0.4999\n",
      "Epoch 39/100\n",
      "50000/50000 [==============================] - 14s 270us/step - loss: 0.6830 - acc: 0.7476 - val_loss: 1.8937 - val_acc: 0.5046\n",
      "Epoch 40/100\n",
      "50000/50000 [==============================] - 13s 263us/step - loss: 0.6703 - acc: 0.7533 - val_loss: 1.9076 - val_acc: 0.4990\n",
      "Epoch 41/100\n",
      "50000/50000 [==============================] - 15s 307us/step - loss: 0.6414 - acc: 0.7628 - val_loss: 1.9911 - val_acc: 0.5005\n",
      "Epoch 42/100\n",
      "50000/50000 [==============================] - 13s 266us/step - loss: 0.6324 - acc: 0.7685 - val_loss: 1.9677 - val_acc: 0.4995\n",
      "Epoch 43/100\n",
      "50000/50000 [==============================] - 13s 259us/step - loss: 0.6019 - acc: 0.7792 - val_loss: 2.1155 - val_acc: 0.4959\n",
      "Epoch 44/100\n",
      "50000/50000 [==============================] - 13s 258us/step - loss: 0.5892 - acc: 0.7826 - val_loss: 1.9756 - val_acc: 0.5084oss: 0.5744 - acc: 0 - ETA:\n",
      "Epoch 45/100\n",
      "50000/50000 [==============================] - 13s 262us/step - loss: 0.5590 - acc: 0.7938 - val_loss: 2.1247 - val_acc: 0.4940\n",
      "Epoch 46/100\n",
      "50000/50000 [==============================] - 15s 301us/step - loss: 0.5675 - acc: 0.7937 - val_loss: 2.1859 - val_acc: 0.4999\n",
      "Epoch 47/100\n",
      "50000/50000 [==============================] - 13s 254us/step - loss: 0.5393 - acc: 0.8003 - val_loss: 2.2126 - val_acc: 0.5014\n",
      "Epoch 48/100\n",
      "50000/50000 [==============================] - 12s 248us/step - loss: 0.5144 - acc: 0.8114 - val_loss: 2.3253 - val_acc: 0.5044\n",
      "Epoch 49/100\n",
      "50000/50000 [==============================] - 12s 240us/step - loss: 0.4883 - acc: 0.8193 - val_loss: 2.2873 - val_acc: 0.5020\n",
      "Epoch 50/100\n",
      "50000/50000 [==============================] - 12s 246us/step - loss: 0.4829 - acc: 0.8217 - val_loss: 2.4704 - val_acc: 0.4924\n",
      "Epoch 51/100\n",
      "50000/50000 [==============================] - 13s 254us/step - loss: 0.4673 - acc: 0.8286 - val_loss: 2.3682 - val_acc: 0.4822\n",
      "Epoch 52/100\n",
      "50000/50000 [==============================] - 12s 241us/step - loss: 0.4504 - acc: 0.8345 - val_loss: 2.4055 - val_acc: 0.4957\n",
      "Epoch 53/100\n",
      "50000/50000 [==============================] - 12s 247us/step - loss: 0.4784 - acc: 0.8251 - val_loss: 2.4450 - val_acc: 0.4873\n",
      "Epoch 54/100\n",
      "50000/50000 [==============================] - 14s 289us/step - loss: 0.4314 - acc: 0.8405 - val_loss: 2.5216 - val_acc: 0.4886\n",
      "Epoch 55/100\n",
      "50000/50000 [==============================] - 12s 249us/step - loss: 0.4328 - acc: 0.8410 - val_loss: 2.5234 - val_acc: 0.5011\n",
      "Epoch 56/100\n",
      "50000/50000 [==============================] - 13s 257us/step - loss: 0.3974 - acc: 0.8546 - val_loss: 2.6747 - val_acc: 0.4947\n",
      "Epoch 57/100\n",
      "50000/50000 [==============================] - 16s 310us/step - loss: 0.4098 - acc: 0.8497 - val_loss: 2.6426 - val_acc: 0.4923\n",
      "Epoch 58/100\n"
     ]
    },
    {
     "name": "stdout",
     "output_type": "stream",
     "text": [
      "50000/50000 [==============================] - 12s 247us/step - loss: 0.3844 - acc: 0.8604 - val_loss: 2.7517 - val_acc: 0.4907\n",
      "Epoch 59/100\n",
      "50000/50000 [==============================] - 13s 257us/step - loss: 0.3948 - acc: 0.8554 - val_loss: 2.7499 - val_acc: 0.4896\n",
      "Epoch 60/100\n",
      "50000/50000 [==============================] - 12s 248us/step - loss: 0.3919 - acc: 0.8565 - val_loss: 2.7901 - val_acc: 0.4918\n",
      "Epoch 61/100\n",
      "50000/50000 [==============================] - 12s 244us/step - loss: 0.3716 - acc: 0.8640 - val_loss: 2.8868 - val_acc: 0.4928\n",
      "Epoch 62/100\n",
      "50000/50000 [==============================] - 12s 243us/step - loss: 0.3489 - acc: 0.8726 - val_loss: 2.8827 - val_acc: 0.4906\n",
      "Epoch 63/100\n",
      "50000/50000 [==============================] - 12s 245us/step - loss: 0.3367 - acc: 0.8775 - val_loss: 2.9517 - val_acc: 0.4736\n",
      "Epoch 64/100\n",
      "50000/50000 [==============================] - 12s 248us/step - loss: 0.3656 - acc: 0.8668 - val_loss: 2.9605 - val_acc: 0.4940\n",
      "Epoch 65/100\n",
      "50000/50000 [==============================] - 12s 247us/step - loss: 0.3657 - acc: 0.8690 - val_loss: 2.9099 - val_acc: 0.4816\n",
      "Epoch 66/100\n",
      "50000/50000 [==============================] - 13s 252us/step - loss: 0.3403 - acc: 0.8764 - val_loss: 2.8443 - val_acc: 0.4882\n",
      "Epoch 67/100\n",
      "50000/50000 [==============================] - 13s 251us/step - loss: 0.3205 - acc: 0.8832 - val_loss: 2.9577 - val_acc: 0.4854\n",
      "Epoch 68/100\n",
      "50000/50000 [==============================] - 14s 283us/step - loss: 0.2893 - acc: 0.8955 - val_loss: 3.1447 - val_acc: 0.4858\n",
      "Epoch 69/100\n",
      "50000/50000 [==============================] - 14s 287us/step - loss: 0.3309 - acc: 0.8805 - val_loss: 3.0995 - val_acc: 0.4848\n",
      "Epoch 70/100\n",
      "50000/50000 [==============================] - 14s 285us/step - loss: 0.3193 - acc: 0.8851 - val_loss: 3.0578 - val_acc: 0.4813\n",
      "Epoch 71/100\n",
      "50000/50000 [==============================] - 13s 269us/step - loss: 0.2959 - acc: 0.8935 - val_loss: 3.0965 - val_acc: 0.4809\n",
      "Epoch 72/100\n",
      "50000/50000 [==============================] - 14s 271us/step - loss: 0.2690 - acc: 0.9036 - val_loss: 3.3167 - val_acc: 0.4887\n",
      "Epoch 73/100\n",
      "50000/50000 [==============================] - 13s 267us/step - loss: 0.3303 - acc: 0.8819 - val_loss: 3.1547 - val_acc: 0.4840\n",
      "Epoch 74/100\n",
      "50000/50000 [==============================] - 13s 269us/step - loss: 0.3099 - acc: 0.8895 - val_loss: 3.1590 - val_acc: 0.4859\n",
      "Epoch 75/100\n",
      "50000/50000 [==============================] - 14s 273us/step - loss: 0.2533 - acc: 0.9096 - val_loss: 3.3105 - val_acc: 0.4888\n",
      "Epoch 76/100\n",
      "50000/50000 [==============================] - 13s 267us/step - loss: 0.2977 - acc: 0.8935 - val_loss: 3.2627 - val_acc: 0.4858\n",
      "Epoch 77/100\n",
      "50000/50000 [==============================] - 14s 280us/step - loss: 0.2700 - acc: 0.9040 - val_loss: 3.3512 - val_acc: 0.4748\n",
      "Epoch 78/100\n",
      "50000/50000 [==============================] - 13s 269us/step - loss: 0.2998 - acc: 0.8934 - val_loss: 3.2968 - val_acc: 0.4851\n",
      "Epoch 79/100\n",
      "50000/50000 [==============================] - 14s 280us/step - loss: 0.3146 - acc: 0.8896 - val_loss: 3.3623 - val_acc: 0.4853\n",
      "Epoch 80/100\n",
      "50000/50000 [==============================] - 13s 269us/step - loss: 0.2668 - acc: 0.9049 - val_loss: 3.3205 - val_acc: 0.4821\n",
      "Epoch 81/100\n",
      "50000/50000 [==============================] - 13s 263us/step - loss: 0.2185 - acc: 0.9216 - val_loss: 3.4740 - val_acc: 0.4955\n",
      "Epoch 82/100\n",
      "50000/50000 [==============================] - 14s 271us/step - loss: 0.2992 - acc: 0.8951 - val_loss: 3.3796 - val_acc: 0.4824\n",
      "Epoch 83/100\n",
      "50000/50000 [==============================] - 13s 257us/step - loss: 0.2614 - acc: 0.9075 - val_loss: 3.4834 - val_acc: 0.4880\n",
      "Epoch 84/100\n",
      "50000/50000 [==============================] - 13s 266us/step - loss: 0.3145 - acc: 0.8899 - val_loss: 3.3885 - val_acc: 0.4751\n",
      "Epoch 85/100\n",
      "50000/50000 [==============================] - 13s 257us/step - loss: 0.2597 - acc: 0.9081 - val_loss: 3.4837 - val_acc: 0.4823\n",
      "Epoch 86/100\n",
      "50000/50000 [==============================] - 13s 256us/step - loss: 0.2639 - acc: 0.9069 - val_loss: 3.3935 - val_acc: 0.4827\n",
      "Epoch 87/100\n",
      "50000/50000 [==============================] - 13s 259us/step - loss: 0.2660 - acc: 0.9060 - val_loss: 3.4280 - val_acc: 0.4861\n",
      "Epoch 88/100\n",
      "50000/50000 [==============================] - 15s 290us/step - loss: 0.2031 - acc: 0.9276 - val_loss: 3.5804 - val_acc: 0.4887\n",
      "Epoch 89/100\n",
      "50000/50000 [==============================] - 14s 282us/step - loss: 0.2431 - acc: 0.9145 - val_loss: 3.6028 - val_acc: 0.4784\n",
      "Epoch 90/100\n",
      "50000/50000 [==============================] - 13s 267us/step - loss: 0.2199 - acc: 0.9229 - val_loss: 3.6843 - val_acc: 0.4841\n",
      "Epoch 91/100\n",
      "50000/50000 [==============================] - 13s 261us/step - loss: 0.2718 - acc: 0.9053 - val_loss: 3.6536 - val_acc: 0.4873\n",
      "Epoch 92/100\n",
      "50000/50000 [==============================] - 13s 259us/step - loss: 0.2127 - acc: 0.9260 - val_loss: 3.6696 - val_acc: 0.4912\n",
      "Epoch 93/100\n",
      "50000/50000 [==============================] - 13s 266us/step - loss: 0.2149 - acc: 0.9250 - val_loss: 3.7981 - val_acc: 0.4731\n",
      "Epoch 94/100\n",
      "50000/50000 [==============================] - 14s 276us/step - loss: 0.2599 - acc: 0.9101 - val_loss: 3.5840 - val_acc: 0.4807\n",
      "Epoch 95/100\n",
      "50000/50000 [==============================] - 14s 280us/step - loss: 0.2808 - acc: 0.9036 - val_loss: 3.5883 - val_acc: 0.4843\n",
      "Epoch 96/100\n",
      "50000/50000 [==============================] - 14s 277us/step - loss: 0.2289 - acc: 0.9199 - val_loss: 3.7495 - val_acc: 0.4780\n",
      "Epoch 97/100\n",
      "50000/50000 [==============================] - 14s 273us/step - loss: 0.1979 - acc: 0.9318 - val_loss: 3.6625 - val_acc: 0.4858\n",
      "Epoch 98/100\n",
      "50000/50000 [==============================] - 14s 274us/step - loss: 0.1700 - acc: 0.9414 - val_loss: 3.7896 - val_acc: 0.4718\n",
      "Epoch 99/100\n",
      "50000/50000 [==============================] - 14s 275us/step - loss: 0.3388 - acc: 0.8867 - val_loss: 3.7355 - val_acc: 0.4801\n",
      "Epoch 100/100\n",
      "50000/50000 [==============================] - 14s 272us/step - loss: 0.1891 - acc: 0.9336 - val_loss: 3.7197 - val_acc: 0.4822\n"
     ]
    },
    {
     "data": {
      "text/plain": [
       "<keras.callbacks.History at 0x1ec5fda5f98>"
      ]
     },
     "execution_count": 17,
     "metadata": {},
     "output_type": "execute_result"
    }
   ],
   "source": [
    "model.fit(x_train, y_train, \n",
    "          epochs=EPOCHS, \n",
    "          batch_size=BATCH_SIZE, \n",
    "          validation_data=(x_test, y_test), \n",
    "          shuffle=True)"
   ]
  },
  {
   "cell_type": "code",
   "execution_count": 19,
   "metadata": {},
   "outputs": [
    {
     "data": {
      "image/png": "[encoded data removed]",
      "text/plain": [
       "<Figure size 432x288 with 1 Axes>"
      ]
     },
     "metadata": {
      "needs_background": "light"
     },
     "output_type": "display_data"
    },
    {
     "data": {
      "image/png": "[encoded data removed]",
      "text/plain": [
       "<Figure size 432x288 with 1 Axes>"
      ]
     },
     "metadata": {
      "needs_background": "light"
     },
     "output_type": "display_data"
    }
   ],
   "source": [
    "import matplotlib.pyplot as plt\n",
    "\n",
    "\n",
    "train_loss = model.history.history[\"loss\"]\n",
    "valid_loss = model.history.history[\"val_loss\"]\n",
    "\n",
    "train_acc = model.history.history[\"acc\"]\n",
    "valid_acc = model.history.history[\"val_acc\"]\n",
    "\n",
    "plt.plot(range(len(train_loss)), train_loss, label=\"train loss\")\n",
    "plt.plot(range(len(valid_loss)), valid_loss, label=\"valid loss\")\n",
    "plt.legend()\n",
    "plt.title(\"Loss\")\n",
    "plt.show()\n",
    "\n",
    "plt.plot(range(len(train_acc)), train_acc, label=\"train accuracy\")\n",
    "plt.plot(range(len(valid_acc)), valid_acc, label=\"valid accuracy\")\n",
    "plt.legend()\n",
    "plt.title(\"Accuracy\")\n",
    "plt.show()"
   ]
  },
  {
   "cell_type": "code",
   "execution_count": null,
   "metadata": {},
   "outputs": [],
   "source": []
  }
 ],
 "metadata": {
  "kernelspec": {
   "display_name": "Python 3",
   "language": "python",
   "name": "python3"
  },
  "language_info": {
   "codemirror_mode": {
    "name": "ipython",
    "version": 3
   },
   "file_extension": ".py",
   "mimetype": "text/x-python",
   "name": "python",
   "nbconvert_exporter": "python",
   "pygments_lexer": "ipython3",
   "version": "3.6.8"
  }
 },
 "nbformat": 4,
 "nbformat_minor": 2
}
