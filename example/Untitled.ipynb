{
 "cells": [
  {
   "cell_type": "code",
   "execution_count": 2,
   "metadata": {},
   "outputs": [
    {
     "name": "stdout",
     "output_type": "stream",
     "text": [
      "Collecting mlxtend\n",
      "  Downloading https://files.pythonhosted.org/packages/c0/ca/54fe0ae783ce81a467710d1c5fb41cfca075121139b48327b807020dc40c/mlxtend-0.16.0-py2.py3-none-any.whl (1.3MB)\n",
      "Requirement already satisfied: scipy>=0.17 in c:\\python\\v3\\lib\\site-packages (from mlxtend) (1.2.1)\n",
      "Requirement already satisfied: numpy>=1.10.4 in c:\\python\\v3\\lib\\site-packages (from mlxtend) (1.16.4)\n",
      "Requirement already satisfied: scikit-learn>=0.18 in c:\\python\\v3\\lib\\site-packages (from mlxtend) (0.21.2)\n",
      "Requirement already satisfied: matplotlib>=1.5.1 in c:\\python\\v3\\lib\\site-packages (from mlxtend) (3.1.0)\n",
      "Requirement already satisfied: setuptools in c:\\python\\v3\\lib\\site-packages (from mlxtend) (41.0.1)\n",
      "Requirement already satisfied: pandas>=0.17.1 in c:\\python\\v3\\lib\\site-packages (from mlxtend) (0.24.2)\n",
      "Requirement already satisfied: joblib>=0.11 in c:\\python\\v3\\lib\\site-packages (from scikit-learn>=0.18->mlxtend) (0.13.2)\n",
      "Requirement already satisfied: cycler>=0.10 in c:\\python\\v3\\lib\\site-packages (from matplotlib>=1.5.1->mlxtend) (0.10.0)\n",
      "Requirement already satisfied: kiwisolver>=1.0.1 in c:\\python\\v3\\lib\\site-packages (from matplotlib>=1.5.1->mlxtend) (1.1.0)\n",
      "Requirement already satisfied: pyparsing!=2.0.4,!=2.1.2,!=2.1.6,>=2.0.1 in c:\\python\\v3\\lib\\site-packages (from matplotlib>=1.5.1->mlxtend) (2.4.0)\n",
      "Requirement already satisfied: python-dateutil>=2.1 in c:\\python\\v3\\lib\\site-packages (from matplotlib>=1.5.1->mlxtend) (2.8.0)\n",
      "Requirement already satisfied: pytz>=2011k in c:\\python\\v3\\lib\\site-packages (from pandas>=0.17.1->mlxtend) (2019.1)\n",
      "Requirement already satisfied: six in c:\\python\\v3\\lib\\site-packages (from cycler>=0.10->matplotlib>=1.5.1->mlxtend) (1.12.0)\n",
      "Installing collected packages: mlxtend\n",
      "Successfully installed mlxtend-0.16.0\n",
      "Note: you may need to restart the kernel to use updated packages.\n"
     ]
    }
   ],
   "source": [
    "pip install mlxtend"
   ]
  },
  {
   "cell_type": "code",
   "execution_count": null,
   "metadata": {},
   "outputs": [],
   "source": []
  }
 ],
 "metadata": {
  "kernelspec": {
   "display_name": "Python 3",
   "language": "python",
   "name": "python3"
  },
  "language_info": {
   "codemirror_mode": {
    "name": "ipython",
    "version": 3
   },
   "file_extension": ".py",
   "mimetype": "text/x-python",
   "name": "python",
   "nbconvert_exporter": "python",
   "pygments_lexer": "ipython3",
   "version": "3.6.8"
  }
 },
 "nbformat": 4,
 "nbformat_minor": 2
}
